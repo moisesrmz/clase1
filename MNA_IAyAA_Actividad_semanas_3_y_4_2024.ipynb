{
  "cells": [
    {
      "cell_type": "markdown",
      "source": [
        "# **Maestría en Inteligencia Artificial Aplicada**\n",
        "\n",
        "## **Curso: Inteligencia Artificial y Aprendizaje Automático**\n",
        "\n",
        "**Tecnológico de Monterrey**\n",
        "\n",
        "Prof Luis Eduardo Falcón Morales\n",
        "\n",
        "Actividad de Semanas 3 y 4\n",
        "\n",
        "**Rotación de Personal - IBM**"
      ],
      "metadata": {
        "id": "hWEMLj5wrcMV"
      },
      "id": "hWEMLj5wrcMV"
    },
    {
      "cell_type": "markdown",
      "source": [
        "#### **Nombres y matrículas:**"
      ],
      "metadata": {
        "id": "6PudVOn2rv9-"
      },
      "id": "6PudVOn2rv9-"
    },
    {
      "cell_type": "markdown",
      "source": [
        "#### **La siguiente actividad se basa en los datos del archivo \"WA_Fn-UseC_-HR-Employee-Attrition.csv\" que se encuentra en la siguiente liga de Kaggle, llamada \"IBM HR Analytics Employee Attrition & Performance\":**\n",
        "\n",
        "https://www.kaggle.com/datasets/pavansubhasht/ibm-hr-analytics-attrition-dataset\n"
      ],
      "metadata": {
        "id": "zHrHylCFqr7R"
      },
      "id": "zHrHylCFqr7R"
    },
    {
      "cell_type": "code",
      "execution_count": null,
      "id": "72533da4",
      "metadata": {
        "id": "72533da4"
      },
      "outputs": [],
      "source": [
        "# Incluye aquí todas las librerías que consideres necesarias:\n",
        "\n",
        "\n",
        "\n"
      ]
    },
    {
      "cell_type": "markdown",
      "id": "ac09ecaf",
      "metadata": {
        "id": "ac09ecaf"
      },
      "source": [
        "# **Ejercicio 1:**"
      ]
    },
    {
      "cell_type": "markdown",
      "source": [
        "#### **Incluye una breve introducción sobre lo que se entiende por el problema de rotación de personal en las organizaciones (employee attrition problem).**"
      ],
      "metadata": {
        "id": "T_-hoJgWpWbt"
      },
      "id": "T_-hoJgWpWbt"
    },
    {
      "cell_type": "markdown",
      "source": [
        "++++++++ Inicia la sección de agregar texto: ++++++++++++\n",
        "\n",
        "\n",
        "None\n",
        "\n",
        "\n",
        "++++++++ Termina la sección de agregar texto. +++++++++++"
      ],
      "metadata": {
        "id": "LfSb-scypfrX"
      },
      "id": "LfSb-scypfrX"
    },
    {
      "cell_type": "markdown",
      "source": [
        "# **Ejercicio 2:**"
      ],
      "metadata": {
        "id": "_FN5RwbGpz0c"
      },
      "id": "_FN5RwbGpz0c"
    },
    {
      "cell_type": "markdown",
      "source": [
        "#### **Carga los datos del archivo de la página de Kaggle indicada como un DataFrame de Pandas, llamado \"df\" y utilicemos el método “describe” con el argumento include= “all”, para obtener una primera descripción general de cada variable.**"
      ],
      "metadata": {
        "id": "Yybnk8vKqEfS"
      },
      "id": "Yybnk8vKqEfS"
    },
    {
      "cell_type": "code",
      "execution_count": null,
      "id": "0b4db5cd",
      "metadata": {
        "id": "0b4db5cd"
      },
      "outputs": [],
      "source": [
        "# ++++++++++++++ Inicia sección de agregar código ++++++++++++++++++++\n",
        "\n",
        "df = None\n",
        "\n",
        "\n",
        "\n",
        "# +++++++++++++ Termina sección de agregar código +++++++++++++++++++++\n",
        "\n",
        "\n",
        "print(\"Tamaño del DataFrame:\", df.shape)\n",
        "df.describe(include = 'all').T\n"
      ]
    },
    {
      "cell_type": "markdown",
      "source": [
        "# **Ejercicio 3:**"
      ],
      "metadata": {
        "id": "4KnDCDS5vh05"
      },
      "id": "4KnDCDS5vh05"
    },
    {
      "cell_type": "markdown",
      "source": [
        "#### **Indica cuál es la diferencia entre utilizar o no el argumento include=”all” del método \"describe\" en el ejercicio anterior.**"
      ],
      "metadata": {
        "id": "H3LIfPWNvhw0"
      },
      "id": "H3LIfPWNvhw0"
    },
    {
      "cell_type": "markdown",
      "source": [
        "++++++++ Inicia la sección de agregar texto: ++++++++++++\n",
        "\n",
        "\n",
        "None\n",
        "\n",
        "\n",
        "++++++++ Termina la sección de agregar texto. +++++++++++"
      ],
      "metadata": {
        "id": "hf0DL3YcwVAC"
      },
      "id": "hf0DL3YcwVAC"
    },
    {
      "cell_type": "markdown",
      "source": [
        "# **Ejercicio 4:**"
      ],
      "metadata": {
        "id": "-kGON2vOw9_8"
      },
      "id": "-kGON2vOw9_8"
    },
    {
      "cell_type": "markdown",
      "source": [
        "#### **Con base a la información desplegada por la instrucción anterior, hemos decidido cancelar los siguientes factores de nuestro problema: Over18, EmployeeCount, StandardHours, EmployeeNumber. Explica cuál es la justificación que nos permite cancelar cada uno de estos factores:**\n",
        "\n",
        "++++++++ Inicia la sección de agregar texto: ++++++++++++\n",
        "\n",
        "**a)   Over18**:\n",
        "\n",
        "**b)\tEmployeeCount**:\n",
        "\n",
        "**c)\tStandardHours**:\n",
        "\n",
        "**d)\tEmployeeNumber**:\n",
        "\n",
        "++++++++ Termina la sección de agregar texto. +++++++++++\n",
        "\n",
        "\n"
      ],
      "metadata": {
        "id": "Rb0lc1OrxAuY"
      },
      "id": "Rb0lc1OrxAuY"
    },
    {
      "cell_type": "code",
      "execution_count": null,
      "id": "9b32cb04",
      "metadata": {
        "id": "9b32cb04"
      },
      "outputs": [],
      "source": [
        "# Eliminamos los factores indicados:\n",
        "\n",
        "df = df.drop(['Over18','EmployeeCount','StandardHours','EmployeeNumber'],axis=1)\n",
        "\n",
        "print(\"Tamaño del nuevo DataFrame:\", df.shape)"
      ]
    },
    {
      "cell_type": "markdown",
      "source": [
        "# **Ejercicio 5:**"
      ],
      "metadata": {
        "id": "BFJsH9kx0vFa"
      },
      "id": "BFJsH9kx0vFa"
    },
    {
      "cell_type": "code",
      "source": [
        "# Incluye en esta celda el código que consideres necesario para responder\n",
        "# las preguntas del Ejercicio 5:\n",
        "\n",
        "None\n"
      ],
      "metadata": {
        "id": "jChHEt-21Aew"
      },
      "id": "jChHEt-21Aew",
      "execution_count": null,
      "outputs": []
    },
    {
      "cell_type": "markdown",
      "source": [
        "#### **Realiza los análisis necesarios para encontrar cuántas y cuáles de las variables del nuevo DataFrame son:**\n",
        "\n",
        "++++++++ Inicia la sección de agregar texto: ++++++++++++\n",
        "\n",
        "i.\tvariables numéricas de valor entero:\n",
        "\n",
        "None\n",
        "\n",
        "ii.\tvariables numéricas de valor real (flotante):\n",
        "\n",
        "None\n",
        "\n",
        "iii.\tvariables binarias:\n",
        "\n",
        "None\n",
        "\n",
        "iv.\tvariables categóricas nominales. Indica el total de niveles que tiene cada una de estas variables:\n",
        "\n",
        "None\n",
        "\n",
        "v.\tvariables categóricas ordinales. Indica el total de niveles que tiene cada una de estas variables:\n",
        "\n",
        "None\n",
        "\n",
        "++++++++ Termina la sección de agregar texto: ++++++++++++"
      ],
      "metadata": {
        "id": "afqGo0Xz0xrH"
      },
      "id": "afqGo0Xz0xrH"
    },
    {
      "cell_type": "markdown",
      "source": [
        "# **Ejercicio 6:**"
      ],
      "metadata": {
        "id": "ykN3_WEU3SWH"
      },
      "id": "ykN3_WEU3SWH"
    },
    {
      "cell_type": "markdown",
      "source": [
        "#### **Realiza una partición de los datos en Entrenamiento, Validación y Prueba, del 70%, 15% y 15%, respectivamente. Llama a dichos conjuntos Xtrain, Xval, Xtest, ytrain, yval, ytest, para los datos de entrada y de salida, respectivamente. Asegúrate que dicha partición conserve la estratificación de las clases de la variable “Attrition”. Despliega además la dimensión obtenida de los tres conjuntos: Entrenamiento, Validación y Prueba.**"
      ],
      "metadata": {
        "id": "UWcvTjY63Uru"
      },
      "id": "UWcvTjY63Uru"
    },
    {
      "cell_type": "code",
      "source": [
        "# ++++++++++++++ Inicia sección de agregar código +++++++++++++++++++++\n",
        "\n",
        "\n",
        "None\n",
        "\n",
        "\n",
        "# ++++++++++++++ Termina sección de agregar código +++++++++++++++++++++"
      ],
      "metadata": {
        "id": "4pYkwIiF1aU9"
      },
      "id": "4pYkwIiF1aU9",
      "execution_count": null,
      "outputs": []
    },
    {
      "cell_type": "markdown",
      "id": "89133c57",
      "metadata": {
        "id": "89133c57"
      },
      "source": [
        "# **Ejercicio 7:**\n"
      ]
    },
    {
      "cell_type": "markdown",
      "source": [
        "#### **Aplica la transformación LabelEncoder() de sklearn a la variable de salida “Attrition”. Las variables deberán seguir llamándose igual: ytrain, yval, ytest. Encuentra la proporción de datos en cada nivel de esta variable y con base a dicha información indica si podemos considerar que tenemos un problema de datos desbalanceados.**\n",
        "\n",
        "#### NOTA: Aplica esta transformación evitando el filtrado de información (data leakage)."
      ],
      "metadata": {
        "id": "IE3vDeVW6Laq"
      },
      "id": "IE3vDeVW6Laq"
    },
    {
      "cell_type": "code",
      "source": [
        "# ++++++++++ Inicia sección para agregar tu código ++++++++++++++++++++++++\n",
        "\n",
        "\n",
        "None\n",
        "\n",
        "\n",
        "# +++++++++++++++++ Termina sección para agregar tu código ++++++++++++++++++++++++"
      ],
      "metadata": {
        "id": "D6FkTLVBd2N0"
      },
      "id": "D6FkTLVBd2N0",
      "execution_count": null,
      "outputs": []
    },
    {
      "cell_type": "markdown",
      "source": [
        "# **Ejercicio 8:**\n"
      ],
      "metadata": {
        "id": "3iE95_bh8XF4"
      },
      "id": "3iE95_bh8XF4"
    },
    {
      "cell_type": "markdown",
      "source": [
        "#### **Usando solamente el conjunto de Entrenamiento, obtener los histogramas de las variables numéricas. Con base a estos gráficos ¿qué tipo de transformaciones sugieres llevar a cabo en dichas variables?**"
      ],
      "metadata": {
        "id": "tj6jEsdS4-1-"
      },
      "id": "tj6jEsdS4-1-"
    },
    {
      "cell_type": "code",
      "execution_count": null,
      "id": "fa966050",
      "metadata": {
        "id": "fa966050"
      },
      "outputs": [],
      "source": [
        "# ++++++++++ Inicia sección para agregar tu código ++++++++++++++++++++++++\n",
        "\n",
        "None\n",
        "\n",
        "# ++++++++++ Termina sección para agregar tu código ++++++++++++++++++++++++\n",
        "\n"
      ]
    },
    {
      "cell_type": "markdown",
      "source": [
        "# **Ejercicio 9:**"
      ],
      "metadata": {
        "id": "7UnNwVptCnmk"
      },
      "id": "7UnNwVptCnmk"
    },
    {
      "cell_type": "markdown",
      "source": [
        "#### **Se pueden analizar una buena cantidad de factores para buscar relaciones entre los factores y la variable de salida “Attrition”, la decisión de dejar un puesto. En particular, deberás ilustrar gráficamente la relación entre las siguientes variables, las cuales pueden aportar información al problema que estamos enfrentando de rotación de personal.**\n",
        "\n",
        "a)\tLas variables “Age” y “Attrition”.\n",
        "\n",
        "b)\tLas variables “Department” y “Attrition”.\n",
        "\n",
        "c)\tLas variables “Gender” y “Attrition”.\n",
        "\n",
        "d)\tIncluye alguna otra relación o relaciones que consideres relevantes.\n",
        "\n",
        "e)\tCon base a los gráficos obtenidos incluye tus conclusiones al respecto.\n"
      ],
      "metadata": {
        "id": "SHSQF-PwCxiC"
      },
      "id": "SHSQF-PwCxiC"
    },
    {
      "cell_type": "code",
      "source": [
        "# Incluye a continuación todas las celdas de código y/o texto que consideres\n",
        "# adecuadas para responder a la pregunta de este ejercicio.\n",
        "\n",
        "None\n",
        "\n"
      ],
      "metadata": {
        "id": "-dY9Ra-n5nWO"
      },
      "id": "-dY9Ra-n5nWO",
      "execution_count": null,
      "outputs": []
    },
    {
      "cell_type": "markdown",
      "source": [
        "# **Ejercicio 10:**"
      ],
      "metadata": {
        "id": "F_ehUumxDH1g"
      },
      "id": "F_ehUumxDH1g"
    },
    {
      "cell_type": "markdown",
      "source": [
        "#### **Encontrar la matriz de correlación de Pearson entre variables numéricas y a partir de dicha matriz encuentra aquellas correlaciones fuertes, positivas o negativas.**\n",
        "\n",
        "**NOTA: Decimos que una correlación es fuerte cuando el valor absoluto es mayor a 0.7.**\n"
      ],
      "metadata": {
        "id": "7Kiar_X4DMtZ"
      },
      "id": "7Kiar_X4DMtZ"
    },
    {
      "cell_type": "code",
      "source": [
        "# Incluye a continuación todas las celdas de código y/o texto que consideres\n",
        "# adecuadas para responder a la pregunta de este ejercicio.\n",
        "\n",
        "None\n",
        "\n"
      ],
      "metadata": {
        "id": "F9twSbrM5nOp"
      },
      "id": "F9twSbrM5nOp",
      "execution_count": null,
      "outputs": []
    },
    {
      "cell_type": "markdown",
      "source": [
        "# **Ejercicio 11:**"
      ],
      "metadata": {
        "id": "kgezdM07DwAD"
      },
      "id": "kgezdM07DwAD"
    },
    {
      "cell_type": "markdown",
      "source": [
        "#### **Utiliza las clases Pipeline y ColumnTransformer de Sklearn para definir las transformaciones que deberán aplicarse a cada variable de acuerdo a su tipo.**\n",
        "\n",
        "**NOTA: A las variables numéricas aplica las transformaciones que hayas decidido en el Ejercicio 8; a las variables binarias y nominales puedes aplicarles las transformaciones One-Hot-Encoder; a las variables ordinales puedes aplicar la transformación OrdinalEncoder.**\n"
      ],
      "metadata": {
        "id": "cZJ86ke_DyLC"
      },
      "id": "cZJ86ke_DyLC"
    },
    {
      "cell_type": "code",
      "source": [
        "# ++++++++++ Inicia sección para agregar tu código ++++++++++++++++++++++++\n",
        "\n",
        "# NUMÉRICAS:\n",
        "numericas_pipeline = Pipeline( None )\n",
        "numericas_pipeline_nombres = None\n",
        "\n",
        "\n",
        "# BINARIAS Y NOMINALES:\n",
        "catOHE_pipeline = Pipeline( None )\n",
        "catOHE_pipeline_nombres = None\n",
        "\n",
        "# ORDINALES:\n",
        "catOrd_pipeline = Pipeline( None )\n",
        "catOrd_pipeline_nombres = None\n",
        "\n",
        "\n",
        "columnasTransformer = ColumnTransformer( None )\n",
        "\n",
        "# ++++++++++ Termina sección para agregar tu código ++++++++++++++++++++++++"
      ],
      "metadata": {
        "id": "5Kvk3CDsFqPE"
      },
      "id": "5Kvk3CDsFqPE",
      "execution_count": null,
      "outputs": []
    },
    {
      "cell_type": "markdown",
      "source": [
        "# **Ejercicio 12:**"
      ],
      "metadata": {
        "id": "hZsec1sDGxly"
      },
      "id": "hZsec1sDGxly"
    },
    {
      "cell_type": "markdown",
      "source": [
        "#### **12)\tUtilizando los conjuntos de entrenamiento y validación, encuentra los mejores hiperparámetros del modelo LogisticRegresion de Sklearn para obtener un modelo no sobre entrenado.**\n",
        "\n",
        "**NOTA: Por el momento diremos que un modelo de clasificación no está sobreentrenado, si la diferencia de la exactitud (Accuracy) entre el conjunto de entrenamiento y el de validación es menor al 3%.**\n"
      ],
      "metadata": {
        "id": "lCepDvlqIhlr"
      },
      "id": "lCepDvlqIhlr"
    },
    {
      "cell_type": "code",
      "source": [
        "# +++++++++ Inicia sección para incluir tu código ++++++++++++++++++++++++\n",
        "\n",
        "modeloRL = None\n",
        "\n",
        "\n",
        "# +++++++++ Termina sección para incluir tu código ++++++++++++++++++++++++\n",
        "\n",
        "\n",
        "pipelineRL = Pipeline(steps=[('ct',columnasTransformer),('modeloRL',modeloRL)])\n",
        "pipelineRL.fit(Xtrain, np.ravel(ytrain))"
      ],
      "metadata": {
        "id": "-J1NiHo6Duhr"
      },
      "id": "-J1NiHo6Duhr",
      "execution_count": null,
      "outputs": []
    },
    {
      "cell_type": "code",
      "source": [
        "print(\">>Exactitud (Accuracy) de los conjuntos de Entrenamiento y Validación:\")\n",
        "y_pred_trainRL = pipelineRL.predict(Xtrain)\n",
        "y_pred_valRL = pipelineRL.predict(Xval)\n",
        "print('accuracy-train', metrics.accuracy_score(ytrain, y_pred_trainRL))\n",
        "print('accuracy-val', metrics.accuracy_score(yval, y_pred_valRL))\n",
        "\n",
        "print(\"\\n>>Matriz de Confusión:\")\n",
        "print(metrics.confusion_matrix(yval, y_pred_valRL))\n",
        "\n",
        "print(\"\\n>>Reporte varias métricas:\")\n",
        "print(metrics.classification_report(yval, y_pred_valRL))"
      ],
      "metadata": {
        "id": "KKxxWxBcDueo"
      },
      "id": "KKxxWxBcDueo",
      "execution_count": null,
      "outputs": []
    },
    {
      "cell_type": "markdown",
      "source": [
        "# **Ejercicio 13:**"
      ],
      "metadata": {
        "id": "_R9gXGsAKRd3"
      },
      "id": "_R9gXGsAKRd3"
    },
    {
      "cell_type": "markdown",
      "source": [
        "#### **Con base a la información del desempeño obtenido en el ejercicio anterior para los conjuntos de entrenamiento y validación, contesta los siguientes incisos:**\n",
        "\n",
        "++++++++ Inicia la sección de agregar texto: ++++++++++++\n",
        "\n",
        "a)\t¿Podemos decir que el modelo está subentrenado (underfitting) o sobreentrenado (overfitting)?\n",
        "\n",
        "None\n",
        "\n",
        "b)\tInterpreta el valor numérico obtenido para la “precision” de la clase positiva.\n",
        "\n",
        "None\n",
        "\n",
        "c)\tInterpreta el valor numérico obtenido para el “recall” de la clase positiva.\n",
        "\n",
        "None\n",
        "\n",
        "d)\tCon base al contexto de este problema, de rotación de personal, ¿cuál de las métricas, “precision” o “recall” consideras que es más importante disminuir su valor. Es decir, si no se puede disminuir el valor de ambos al mismo tiempo y debieras sacrificar uno de ellos, ¿cuál sería el que buscarías que fuera más cercano a cero? Justifica tu respuesta con base al contexto del problema.\n",
        "\n",
        "None\n",
        "\n",
        "++++++++ Termina la sección de agregar texto. +++++++++++"
      ],
      "metadata": {
        "id": "nvoQB7MtKT2F"
      },
      "id": "nvoQB7MtKT2F"
    },
    {
      "cell_type": "markdown",
      "source": [
        "# **Ejercicio 14:**"
      ],
      "metadata": {
        "id": "axw269CQM9DF"
      },
      "id": "axw269CQM9DF"
    },
    {
      "cell_type": "markdown",
      "source": [
        "#### **Utiliza los conjuntos de entrenamiento y validación para generar el mejor modelo no sobreentrenado de los k Vecinos más Cercanos, kNN, usando la función KNeighborsClassifier() de Sklearn. Compara los resultados con el modelo de regresión logística e incluye tus conclusiones.**"
      ],
      "metadata": {
        "id": "GlDfHSl9NBOl"
      },
      "id": "GlDfHSl9NBOl"
    },
    {
      "cell_type": "code",
      "source": [
        "# Incluye a continuación todas las celdas de código y/o texto que consideres\n",
        "# adecuadas para responder a la pregunta de este ejercicio.\n",
        "\n",
        "None\n",
        "\n",
        "\n"
      ],
      "metadata": {
        "id": "s5xsTMbhM_kE"
      },
      "id": "s5xsTMbhM_kE",
      "execution_count": null,
      "outputs": []
    },
    {
      "cell_type": "markdown",
      "source": [
        "# **Ejercicio 15:**"
      ],
      "metadata": {
        "id": "HXoBIUUmPZSS"
      },
      "id": "HXoBIUUmPZSS"
    },
    {
      "cell_type": "markdown",
      "source": [
        "#### **Utilizando el mejor modelo obtenido previamente (regresión logística o kNN), utiliza algún método de submuestreo (undersampling) o sobremuestreo (oversampling) que consideres adecuado de la librería “Imbalanced-learn” y los valores de los hiperparámetros que consideres más adecuados, para obtener el mejor modelo posible.**\n",
        "\n",
        "**NOTA: Ver la documentación correspondiente:** https://imbalanced-learn.org/stable/references/\n"
      ],
      "metadata": {
        "id": "r7QGF7fGPbnD"
      },
      "id": "r7QGF7fGPbnD"
    },
    {
      "cell_type": "code",
      "source": [
        "# Incluye a continuación todas las celdas de código y/o texto que consideres\n",
        "# adecuadas para responder a la pregunta de este ejercicio.\n",
        "\n",
        "None\n",
        "\n",
        "\n"
      ],
      "metadata": {
        "id": "0DJDTWHFDubt"
      },
      "id": "0DJDTWHFDubt",
      "execution_count": null,
      "outputs": []
    },
    {
      "cell_type": "markdown",
      "source": [
        "++++++++ Inicia la sección de agregar texto: ++++++++++++\n",
        "\n",
        "#### **Con dicho modelo:**\n",
        "\n",
        "**a)\tDespliega los valores de la exactitud (accuracy) de los conjuntos de Entrenamiento y Validación.**\n",
        "\n",
        "None\n",
        "\n",
        "**b)\tUtiliza los datos de validación para desplegar la matriz de confusión y el reporte dado por la función classification_report() de sklearn.**\n",
        "\n",
        "None\n",
        "\n",
        "**c)\t¿Qué métrica es la que consideras que explica mejor el buen desempeño de nuestro modelo?**\n",
        "\n",
        "None\n",
        "\n",
        "**d)\tCompara los resultados con los modelos anteriores y escribe tus conclusiones.**\n",
        "\n",
        "None\n",
        "\n",
        "++++++++ Termina la sección de agregar texto: ++++++++++++"
      ],
      "metadata": {
        "id": "GYamGWHZQCvM"
      },
      "id": "GYamGWHZQCvM"
    },
    {
      "cell_type": "markdown",
      "source": [
        "# **Ejercicio 16:**"
      ],
      "metadata": {
        "id": "V288RlaMVhGm"
      },
      "id": "V288RlaMVhGm"
    },
    {
      "cell_type": "markdown",
      "source": [
        "#### **Con base al mejor modelo que hayas obtenido hasta ahora, aplica la técnica de permutación de los factores con el método “permutation_importance()” de Sklearn, para identificar aquellos factores que se consideran los más importantes al problema de rotación de personal.**\n",
        "\n",
        "++++++++ Inicia la sección de agregar texto: ++++++++++++\n",
        "\n",
        "**a)\tGenerar un gráfico de barras de los coeficientes indicando el nombre de cada factor asociado a cada barra (bin). Utiliza el conjunto de validación.**\n",
        "\n",
        "None\n",
        "\n",
        "**b)\t¿Cuáles factores consideras que son los que influyen mayormente a que un empleado abandone su trabajo?**\n",
        "\n",
        "None\n",
        "\n",
        "++++++++ Termina la sección de agregar texto: ++++++++++++\n"
      ],
      "metadata": {
        "id": "Hh5poum8VjMP"
      },
      "id": "Hh5poum8VjMP"
    },
    {
      "cell_type": "code",
      "source": [
        "# Incluye a continuación todas las celdas de código y/o texto que consideres\n",
        "# adecuadas para responder a la pregunta de este ejercicio.\n",
        "\n",
        "None\n",
        "\n",
        "\n"
      ],
      "metadata": {
        "id": "bxnyRB12DuYw"
      },
      "id": "bxnyRB12DuYw",
      "execution_count": null,
      "outputs": []
    },
    {
      "cell_type": "markdown",
      "source": [
        "# **Ejercicio 17:**"
      ],
      "metadata": {
        "id": "8zNm5aDaVzSB"
      },
      "id": "8zNm5aDaVzSB"
    },
    {
      "cell_type": "markdown",
      "source": [
        "#### **Finalmente, con base a todos los resultados obtenidos hasta ahora, responde a los siguientes incisos para obtener el que consideres el mejor modelo para enfrentar el problema de rotación de personal. Forma un nuevo conjunto de Entrenamiento con los conjuntos de entrenamiento y validación y utiliza el conjunto de Prueba (Test) para obtener el desempeño final de tu mejor modelo, desplegando la siguiente información:**\n",
        "\n",
        "++++++++ Inicia la sección de agregar texto: ++++++++++++\n",
        "\n",
        "**a)\tDespliega la matriz de confusión y el reporte dado por la función classification_report() del conjunto de Prueba.**\n",
        "\n",
        "None\n",
        "\n",
        "**b)\tIncluye las conclusiones finales de la actividad. En particular interpreta y explica con base al problema de rotación de personal, los resultados obtenidos para las métricas “precision”, “recall” y “f1-score”.**\n",
        "\n",
        "None\n",
        "\n",
        "++++++++ Termina la sección de agregar texto: ++++++++++++"
      ],
      "metadata": {
        "id": "QPPQVDlyV2fw"
      },
      "id": "QPPQVDlyV2fw"
    },
    {
      "cell_type": "markdown",
      "id": "5fd5aadb",
      "metadata": {
        "id": "5fd5aadb"
      },
      "source": [
        "# >> **Fin de la Actividad de las Semanas 3 y 4** <<"
      ]
    }
  ],
  "metadata": {
    "kernelspec": {
      "display_name": "Python 3 (ipykernel)",
      "language": "python",
      "name": "python3"
    },
    "language_info": {
      "codemirror_mode": {
        "name": "ipython",
        "version": 3
      },
      "file_extension": ".py",
      "mimetype": "text/x-python",
      "name": "python",
      "nbconvert_exporter": "python",
      "pygments_lexer": "ipython3",
      "version": "3.9.13"
    },
    "colab": {
      "provenance": []
    }
  },
  "nbformat": 4,
  "nbformat_minor": 5
}